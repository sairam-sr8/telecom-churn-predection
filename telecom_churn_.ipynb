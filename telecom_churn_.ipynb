{
 "cells": [
  {
   "cell_type": "code",
   "execution_count": 56,
   "id": "e252320c",
   "metadata": {
    "lines_to_next_cell": 1
   },
   "outputs": [],
   "source": [
    "# Import required libraries\n",
    "import pandas as pd\n",
    "import numpy as np\n",
    "from sklearn.model_selection import train_test_split\n",
    "from sklearn.preprocessing import LabelEncoder, StandardScaler\n",
    "from sklearn.ensemble import RandomForestClassifier, GradientBoostingClassifier, VotingClassifier\n",
    "from sklearn.linear_model import LogisticRegression\n",
    "from sklearn.metrics import accuracy_score, classification_report\n",
    "from imblearn.combine import SMOTEENN\n",
    "import xgboost as xgb\n",
    "import lightgbm as lgb"
   ]
  },
  {
   "cell_type": "code",
   "execution_count": 60,
   "id": "cc512316-437f-415a-aaa8-f13c399407e1",
   "metadata": {},
   "outputs": [],
   "source": [
    "# ignore warnings   \n",
    "import warnings\n",
    "warnings.filterwarnings('ignore')"
   ]
  },
  {
   "cell_type": "code",
   "execution_count": 62,
   "id": "e8e8b645",
   "metadata": {
    "lines_to_next_cell": 1
   },
   "outputs": [],
   "source": [
    "def evaluate_model(model, X_train, X_test, y_train, y_test, model_name):\n",
    "    print(f\"\\nTraining {model_name}...\")\n",
    "    model.fit(X_train, y_train)\n",
    "    y_pred = model.predict(X_test)\n",
    "    accuracy = accuracy_score(y_test, y_pred)\n",
    "    print(f\"{model_name} Accuracy: {accuracy:.4f}\")\n",
    "    print(\"\\nClassification Report:\")\n",
    "    print(classification_report(y_test, y_pred))\n",
    "    return model, accuracy"
   ]
  },
  {
   "cell_type": "code",
   "execution_count": 64,
   "id": "6042dc99",
   "metadata": {},
   "outputs": [],
   "source": [
    "#Step 1: Loading and preprocessing data\n",
    "df = pd.read_csv(\"TelcoCustomerChurn.csv\")"
   ]
  },
  {
   "cell_type": "code",
   "execution_count": 66,
   "id": "1336ac9b",
   "metadata": {},
   "outputs": [],
   "source": [
    "#Step 2: Basic preprocessing\n",
    "# Convert TotalCharges to numeric and handle missing values\n",
    "df['TotalCharges'] = pd.to_numeric(df['TotalCharges'], errors='coerce')\n",
    "df['TotalCharges'] = df['TotalCharges'].fillna(df['MonthlyCharges'])"
   ]
  },
  {
   "cell_type": "code",
   "execution_count": 68,
   "id": "bdbafe0c",
   "metadata": {},
   "outputs": [],
   "source": [
    "# Step 3: Feature Engineering\n",
    "# Contract features\n",
    "df['ContractValue'] = df['MonthlyCharges'] * df['tenure']\n",
    "df['MonthlyChargesPerTenure'] = df['MonthlyCharges'] / (df['tenure'] + 1)"
   ]
  },
  {
   "cell_type": "code",
   "execution_count": 70,
   "id": "b3636086",
   "metadata": {},
   "outputs": [],
   "source": [
    "# Service features\n",
    "service_columns = ['PhoneService', 'InternetService', 'OnlineSecurity', \n",
    "                  'OnlineBackup', 'DeviceProtection', 'TechSupport', \n",
    "                  'StreamingTV', 'StreamingMovies']\n",
    "df['TotalServices'] = df[service_columns].apply(\n",
    "    lambda x: sum([1 for i in x if i == 'Yes' or i == 'Fiber optic' or i == 'DSL']), axis=1)"
   ]
  },
  {
   "cell_type": "code",
   "execution_count": 72,
   "id": "0ce64611",
   "metadata": {},
   "outputs": [],
   "source": [
    "# Customer features\n",
    "df['HasFamily'] = ((df['Partner'] == 'Yes') | (df['Dependents'] == 'Yes')).astype(int)\n",
    "df['IsSenior'] = df['SeniorCitizen'].astype(int)"
   ]
  },
  {
   "cell_type": "code",
   "execution_count": 74,
   "id": "92419e50",
   "metadata": {},
   "outputs": [],
   "source": [
    "# Contract type\n",
    "contract_map = {'Month-to-month': 1, 'One year': 12, 'Two year': 24}\n",
    "df['ContractMonths'] = df['Contract'].map(contract_map)"
   ]
  },
  {
   "cell_type": "code",
   "execution_count": 76,
   "id": "f4d85904",
   "metadata": {},
   "outputs": [],
   "source": [
    "# Step 4: Data preparation\n",
    "# Drop customerID and convert categorical variables\n",
    "df = df.drop('customerID', axis=1)\n",
    "le = LabelEncoder()\n",
    "categorical_cols = df.select_dtypes(include=['object']).columns\n",
    "for col in categorical_cols:\n",
    "    df[col] = le.fit_transform(df[col])"
   ]
  },
  {
   "cell_type": "code",
   "execution_count": 78,
   "id": "d9add759",
   "metadata": {},
   "outputs": [],
   "source": [
    "# Prepare data for modeling\n",
    "X = df.drop('Churn', axis=1)\n",
    "y = df['Churn']"
   ]
  },
  {
   "cell_type": "code",
   "execution_count": 80,
   "id": "f4f85496",
   "metadata": {},
   "outputs": [],
   "source": [
    "# Scale features\n",
    "scaler = StandardScaler()\n",
    "X_scaled = scaler.fit_transform(X)"
   ]
  },
  {
   "cell_type": "code",
   "execution_count": 82,
   "id": "d160a4c5",
   "metadata": {},
   "outputs": [],
   "source": [
    "#Step 5: Handling class imbalance with SMOTEENN\n",
    "smoteenn = SMOTEENN(random_state=42)\n",
    "X_resampled, y_resampled = smoteenn.fit_resample(X_scaled, y)"
   ]
  },
  {
   "cell_type": "code",
   "execution_count": 84,
   "id": "05a458a2",
   "metadata": {},
   "outputs": [],
   "source": [
    "# Split data\n",
    "X_train, X_test, y_train, y_test = train_test_split(X_resampled, y_resampled, test_size=0.2, random_state=42)"
   ]
  },
  {
   "cell_type": "code",
   "execution_count": 99,
   "id": "30f5cf54",
   "metadata": {},
   "outputs": [
    {
     "name": "stdout",
     "output_type": "stream",
     "text": [
      "\n",
      "Step 6: Initializing and training models...\n"
     ]
    }
   ],
   "source": [
    "#Step 6: Initializing and training models\n",
    "# Initialize models with optimized parameters\n",
    "models = {\n",
    "    'Logistic Regression': LogisticRegression(\n",
    "        C=1.0,\n",
    "        max_iter=1000,\n",
    "        random_state=42\n",
    "    ),\n",
    "    'XGBoost': xgb.XGBClassifier(\n",
    "        n_estimators=200,\n",
    "        learning_rate=0.1,\n",
    "        max_depth=5,\n",
    "        random_state=42,\n",
    "        verbosity=0  # Suppress XGBoost warnings\n",
    "    ),\n",
    "    'LightGBM': lgb.LGBMClassifier(\n",
    "        n_estimators=200,\n",
    "        learning_rate=0.1,\n",
    "        max_depth=5,\n",
    "        random_state=42,\n",
    "        verbose=-1  # Suppress LightGBM warnings\n",
    "    ),\n",
    "    'Gradient Boosting': GradientBoostingClassifier(\n",
    "        n_estimators=200,\n",
    "        learning_rate=0.1,\n",
    "        max_depth=5,\n",
    "        random_state=42\n",
    "    )\n",
    "}"
   ]
  },
  {
   "cell_type": "code",
   "execution_count": 101,
   "id": "c9c879a9",
   "metadata": {},
   "outputs": [
    {
     "name": "stdout",
     "output_type": "stream",
     "text": [
      "\n",
      "Training Logistic Regression...\n",
      "Logistic Regression Accuracy: 0.9134\n",
      "\n",
      "Classification Report:\n",
      "              precision    recall  f1-score   support\n",
      "\n",
      "           0       0.91      0.89      0.90       579\n",
      "           1       0.91      0.93      0.92       714\n",
      "\n",
      "    accuracy                           0.91      1293\n",
      "   macro avg       0.91      0.91      0.91      1293\n",
      "weighted avg       0.91      0.91      0.91      1293\n",
      "\n",
      "\n",
      "Training XGBoost...\n",
      "XGBoost Accuracy: 0.9559\n",
      "\n",
      "Classification Report:\n",
      "              precision    recall  f1-score   support\n",
      "\n",
      "           0       0.96      0.94      0.95       579\n",
      "           1       0.96      0.96      0.96       714\n",
      "\n",
      "    accuracy                           0.96      1293\n",
      "   macro avg       0.96      0.95      0.96      1293\n",
      "weighted avg       0.96      0.96      0.96      1293\n",
      "\n",
      "\n",
      "Training LightGBM...\n",
      "LightGBM Accuracy: 0.9505\n",
      "\n",
      "Classification Report:\n",
      "              precision    recall  f1-score   support\n",
      "\n",
      "           0       0.95      0.94      0.94       579\n",
      "           1       0.95      0.96      0.96       714\n",
      "\n",
      "    accuracy                           0.95      1293\n",
      "   macro avg       0.95      0.95      0.95      1293\n",
      "weighted avg       0.95      0.95      0.95      1293\n",
      "\n",
      "\n",
      "Training Gradient Boosting...\n",
      "Gradient Boosting Accuracy: 0.9575\n",
      "\n",
      "Classification Report:\n",
      "              precision    recall  f1-score   support\n",
      "\n",
      "           0       0.96      0.94      0.95       579\n",
      "           1       0.96      0.97      0.96       714\n",
      "\n",
      "    accuracy                           0.96      1293\n",
      "   macro avg       0.96      0.96      0.96      1293\n",
      "weighted avg       0.96      0.96      0.96      1293\n",
      "\n"
     ]
    }
   ],
   "source": [
    "# Train and evaluate individual models\n",
    "model_results = {}\n",
    "for name, model in models.items():\n",
    "    trained_model, accuracy = evaluate_model(model, X_train, X_test, y_train, y_test, name)\n",
    "    model_results[name] = (trained_model, accuracy)"
   ]
  },
  {
   "cell_type": "code",
   "execution_count": null,
   "id": "bf91ab5f-20eb-478b-848c-db5d6807668e",
   "metadata": {},
   "outputs": [],
   "source": []
  },
  {
   "cell_type": "code",
   "execution_count": null,
   "id": "7d88c6d1-9c5e-4baa-8030-09960f5b7cd9",
   "metadata": {},
   "outputs": [],
   "source": []
  },
  {
   "cell_type": "code",
   "execution_count": null,
   "id": "286b094b-4beb-4aa7-8dd3-748aa4552a6c",
   "metadata": {},
   "outputs": [],
   "source": []
  }
 ],
 "metadata": {
  "jupytext": {
   "cell_metadata_filter": "-all",
   "main_language": "python",
   "notebook_metadata_filter": "-all"
  },
  "kernelspec": {
   "display_name": "Python [conda env:base] *",
   "language": "python",
   "name": "conda-base-py"
  },
  "language_info": {
   "codemirror_mode": {
    "name": "ipython",
    "version": 3
   },
   "file_extension": ".py",
   "mimetype": "text/x-python",
   "name": "python",
   "nbconvert_exporter": "python",
   "pygments_lexer": "ipython3",
   "version": "3.12.3"
  }
 },
 "nbformat": 4,
 "nbformat_minor": 5
}
